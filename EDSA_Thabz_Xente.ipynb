{
  "nbformat": 4,
  "nbformat_minor": 0,
  "metadata": {
    "colab": {
      "name": "EDSA_Thabz_Xente.ipynb",
      "version": "0.3.2",
      "provenance": [],
      "include_colab_link": true
    },
    "kernelspec": {
      "name": "python3",
      "display_name": "Python 3"
    }
  },
  "cells": [
    {
      "cell_type": "markdown",
      "metadata": {
        "id": "view-in-github",
        "colab_type": "text"
      },
      "source": [
        "<a href=\"https://colab.research.google.com/github/ThabisoEDSA/MBTI-Personality-Classifier/blob/master/EDSA_Thabz_Xente.ipynb\" target=\"_parent\"><img src=\"https://colab.research.google.com/assets/colab-badge.svg\" alt=\"Open In Colab\"/></a>"
      ]
    },
    {
      "cell_type": "code",
      "metadata": {
        "id": "vaFCeHrokBZh",
        "colab_type": "code",
        "colab": {
          "base_uri": "https://localhost:8080/",
          "height": 122
        },
        "outputId": "b2455d70-7298-448c-a408-a2d57ff091b9"
      },
      "source": [
        "\n",
        "from google.colab import drive\n",
        "drive.mount('/content/gdrive')"
      ],
      "execution_count": 2,
      "outputs": [
        {
          "output_type": "stream",
          "text": [
            "Go to this URL in a browser: https://accounts.google.com/o/oauth2/auth?client_id=947318989803-6bn6qk8qdgf4n4g3pfee6491hc0brc4i.apps.googleusercontent.com&redirect_uri=urn%3Aietf%3Awg%3Aoauth%3A2.0%3Aoob&scope=email%20https%3A%2F%2Fwww.googleapis.com%2Fauth%2Fdocs.test%20https%3A%2F%2Fwww.googleapis.com%2Fauth%2Fdrive%20https%3A%2F%2Fwww.googleapis.com%2Fauth%2Fdrive.photos.readonly%20https%3A%2F%2Fwww.googleapis.com%2Fauth%2Fpeopleapi.readonly&response_type=code\n",
            "\n",
            "Enter your authorization code:\n",
            "··········\n",
            "Mounted at /content/gdrive\n"
          ],
          "name": "stdout"
        }
      ]
    },
    {
      "cell_type": "markdown",
      "metadata": {
        "id": "DL8-yNOJkZe4",
        "colab_type": "text"
      },
      "source": [
        "#### Xente Fraud Detection System Classification\n",
        ">>> Author : Thabiso Mareletsa"
      ]
    },
    {
      "cell_type": "markdown",
      "metadata": {
        "id": "FvtqT6KUk6pE",
        "colab_type": "text"
      },
      "source": [
        "#### Importing packages and Data"
      ]
    },
    {
      "cell_type": "code",
      "metadata": {
        "id": "LtR0pEBbk3j7",
        "colab_type": "code",
        "colab": {}
      },
      "source": [
        "import pandas as pd\n",
        "import numpy as np\n",
        "import matplotlib.pyplot as plt\n",
        "from sklearn.preprocessing import LabelEncoder\n",
        "from sklearn.model_selection import train_test_split\n",
        "from sklearn.model_selection import train_test_split\n",
        "\n",
        "from sklearn.metrics import classification_report\n",
        "from sklearn.metrics import accuracy_score\n",
        "from sklearn.metrics import log_loss\n",
        "import seaborn as sns\n",
        "\n",
        "from scipy import stats\n",
        "from scipy.stats import norm, skew #for some statistics\n",
        "from scipy.special import boxcox1p\n",
        "import warnings\n",
        "warnings.filterwarnings('ignore')\n",
        "%matplotlib inline"
      ],
      "execution_count": 0,
      "outputs": []
    },
    {
      "cell_type": "code",
      "metadata": {
        "id": "O9D-1jYklHps",
        "colab_type": "code",
        "colab": {}
      },
      "source": [
        "#### Let's read in our MBTI Headset with 'read_csv'\n",
        "train  =  pd.read_csv('/content/gdrive/My Drive/Explore/Xente/training.csv' )\n",
        "test = pd.read_csv('/content/gdrive/My Drive/Explore/Xente/testing.csv' )\n",
        "sample = pd.read_csv('/content/gdrive/My Drive/Explore/Xente/sample_submission.csv' )"
      ],
      "execution_count": 0,
      "outputs": []
    },
    {
      "cell_type": "code",
      "metadata": {
        "id": "6_8nyre3QgDg",
        "colab_type": "code",
        "colab": {
          "base_uri": "https://localhost:8080/",
          "height": 34
        },
        "outputId": "a3ad9bc2-ab5c-4914-c099-85207ac62ef6"
      },
      "source": [
        "len(sample)"
      ],
      "execution_count": 438,
      "outputs": [
        {
          "output_type": "execute_result",
          "data": {
            "text/plain": [
              "45019"
            ]
          },
          "metadata": {
            "tags": []
          },
          "execution_count": 438
        }
      ]
    },
    {
      "cell_type": "code",
      "metadata": {
        "id": "vVnxq82Xl7dq",
        "colab_type": "code",
        "colab": {}
      },
      "source": [
        "xe_train = train.copy()\n",
        "xe_test = test.copy()"
      ],
      "execution_count": 0,
      "outputs": []
    },
    {
      "cell_type": "code",
      "metadata": {
        "id": "TErFGH4AmGZD",
        "colab_type": "code",
        "colab": {
          "base_uri": "https://localhost:8080/",
          "height": 34
        },
        "outputId": "ef115e64-dadd-4de9-b46c-dd4fbc7c642d"
      },
      "source": [
        "len(xe_train)"
      ],
      "execution_count": 440,
      "outputs": [
        {
          "output_type": "execute_result",
          "data": {
            "text/plain": [
              "95662"
            ]
          },
          "metadata": {
            "tags": []
          },
          "execution_count": 440
        }
      ]
    },
    {
      "cell_type": "code",
      "metadata": {
        "id": "AkTYjgndmI-T",
        "colab_type": "code",
        "colab": {
          "base_uri": "https://localhost:8080/",
          "height": 306
        },
        "outputId": "2f60bb58-f217-4305-d6f8-e4dcbc2c9ef6"
      },
      "source": [
        "#### now let's check if there are any missing values in this dataset\n",
        "\n",
        "xe_train.isnull().sum()"
      ],
      "execution_count": 441,
      "outputs": [
        {
          "output_type": "execute_result",
          "data": {
            "text/plain": [
              "TransactionId           0\n",
              "BatchId                 0\n",
              "AccountId               0\n",
              "SubscriptionId          0\n",
              "CustomerId              0\n",
              "CurrencyCode            0\n",
              "CountryCode             0\n",
              "ProviderId              0\n",
              "ProductId               0\n",
              "ProductCategory         0\n",
              "ChannelId               0\n",
              "Amount                  0\n",
              "Value                   0\n",
              "TransactionStartTime    0\n",
              "PricingStrategy         0\n",
              "FraudResult             0\n",
              "dtype: int64"
            ]
          },
          "metadata": {
            "tags": []
          },
          "execution_count": 441
        }
      ]
    },
    {
      "cell_type": "code",
      "metadata": {
        "id": "ztSfIhSopNPo",
        "colab_type": "code",
        "colab": {
          "base_uri": "https://localhost:8080/",
          "height": 34
        },
        "outputId": "7687be3f-b90d-41fc-ea16-63362cdb7b5c"
      },
      "source": [
        "##The data has no missing values\n",
        "\n",
        "### Let's count the number of fraudulent transanctions versus non fradulent trans\n",
        "\n",
        "print('We have : ', train[train['FraudResult']==1]['FraudResult'].count(), 'fradulent transactions')"
      ],
      "execution_count": 442,
      "outputs": [
        {
          "output_type": "stream",
          "text": [
            "We have :  193 fradulent transactions\n"
          ],
          "name": "stdout"
        }
      ]
    },
    {
      "cell_type": "code",
      "metadata": {
        "id": "UQ7hz6nwpzHy",
        "colab_type": "code",
        "colab": {
          "base_uri": "https://localhost:8080/",
          "height": 34
        },
        "outputId": "dfbbcbaf-941a-4088-c18f-39ddd34c2adc"
      },
      "source": [
        "print('We have : ', train[train['FraudResult']==0]['FraudResult'].count(), 'non-fradulent transactions')"
      ],
      "execution_count": 443,
      "outputs": [
        {
          "output_type": "stream",
          "text": [
            "We have :  95469 non-fradulent transactions\n"
          ],
          "name": "stdout"
        }
      ]
    },
    {
      "cell_type": "code",
      "metadata": {
        "id": "NsonkBgcq2rj",
        "colab_type": "code",
        "colab": {
          "base_uri": "https://localhost:8080/",
          "height": 102
        },
        "outputId": "86370507-badb-4150-c596-a4986b1de946"
      },
      "source": [
        "train.columns"
      ],
      "execution_count": 444,
      "outputs": [
        {
          "output_type": "execute_result",
          "data": {
            "text/plain": [
              "Index(['TransactionId', 'BatchId', 'AccountId', 'SubscriptionId', 'CustomerId',\n",
              "       'CurrencyCode', 'CountryCode', 'ProviderId', 'ProductId',\n",
              "       'ProductCategory', 'ChannelId', 'Amount', 'Value',\n",
              "       'TransactionStartTime', 'PricingStrategy', 'FraudResult'],\n",
              "      dtype='object')"
            ]
          },
          "metadata": {
            "tags": []
          },
          "execution_count": 444
        }
      ]
    },
    {
      "cell_type": "markdown",
      "metadata": {
        "id": "Jr-jRCLysgF7",
        "colab_type": "text"
      },
      "source": [
        "- as we can see we have a very imbalanced dataset as the number of non-fradulent transaction are way higher\n",
        "- this implies we must aim to deal with thi issue"
      ]
    },
    {
      "cell_type": "code",
      "metadata": {
        "id": "YS5DVAA4swYn",
        "colab_type": "code",
        "colab": {}
      },
      "source": [
        "### what categories of services do we have"
      ],
      "execution_count": 0,
      "outputs": []
    },
    {
      "cell_type": "code",
      "metadata": {
        "id": "SZ_bCuaCthBv",
        "colab_type": "code",
        "colab": {
          "base_uri": "https://localhost:8080/",
          "height": 51
        },
        "outputId": "898782b8-9835-42ce-8eed-58120eda724d"
      },
      "source": [
        "train['ProductCategory'].unique()"
      ],
      "execution_count": 446,
      "outputs": [
        {
          "output_type": "execute_result",
          "data": {
            "text/plain": [
              "array(['airtime', 'financial_services', 'utility_bill', 'data_bundles',\n",
              "       'tv', 'transport', 'ticket', 'movies', 'other'], dtype=object)"
            ]
          },
          "metadata": {
            "tags": []
          },
          "execution_count": 446
        }
      ]
    },
    {
      "cell_type": "code",
      "metadata": {
        "id": "qNGLE1EPwlmq",
        "colab_type": "code",
        "colab": {
          "base_uri": "https://localhost:8080/",
          "height": 51
        },
        "outputId": "dcbed6b4-c930-4b85-dc4b-7cd113e8e169"
      },
      "source": [
        "#### what service providers do we have\n",
        "\n",
        "train['ProviderId'].unique()"
      ],
      "execution_count": 447,
      "outputs": [
        {
          "output_type": "execute_result",
          "data": {
            "text/plain": [
              "array(['ProviderId_6', 'ProviderId_4', 'ProviderId_1', 'ProviderId_5',\n",
              "       'ProviderId_3', 'ProviderId_2'], dtype=object)"
            ]
          },
          "metadata": {
            "tags": []
          },
          "execution_count": 447
        }
      ]
    },
    {
      "cell_type": "code",
      "metadata": {
        "id": "cKHsgl_XxQsi",
        "colab_type": "code",
        "colab": {
          "base_uri": "https://localhost:8080/",
          "height": 119
        },
        "outputId": "89704d87-d9ad-4a9e-ccc9-1c22bfeec894"
      },
      "source": [
        "\n",
        "#### what product\n",
        "train['ProductId'].unique()"
      ],
      "execution_count": 448,
      "outputs": [
        {
          "output_type": "execute_result",
          "data": {
            "text/plain": [
              "array(['ProductId_10', 'ProductId_6', 'ProductId_1', 'ProductId_21',\n",
              "       'ProductId_3', 'ProductId_15', 'ProductId_11', 'ProductId_19',\n",
              "       'ProductId_4', 'ProductId_5', 'ProductId_20', 'ProductId_9',\n",
              "       'ProductId_24', 'ProductId_14', 'ProductId_2', 'ProductId_13',\n",
              "       'ProductId_22', 'ProductId_8', 'ProductId_7', 'ProductId_27',\n",
              "       'ProductId_12', 'ProductId_16', 'ProductId_23'], dtype=object)"
            ]
          },
          "metadata": {
            "tags": []
          },
          "execution_count": 448
        }
      ]
    },
    {
      "cell_type": "code",
      "metadata": {
        "id": "JqjFsSSjxuaK",
        "colab_type": "code",
        "colab": {
          "base_uri": "https://localhost:8080/",
          "height": 51
        },
        "outputId": "b4787789-7330-489b-fa3f-bbc6600047de"
      },
      "source": [
        "#### There are 23 products on \n",
        "#### let's check how many channels do we have\n",
        "train['ChannelId'].unique()"
      ],
      "execution_count": 449,
      "outputs": [
        {
          "output_type": "execute_result",
          "data": {
            "text/plain": [
              "array(['ChannelId_3', 'ChannelId_2', 'ChannelId_1', 'ChannelId_5'],\n",
              "      dtype=object)"
            ]
          },
          "metadata": {
            "tags": []
          },
          "execution_count": 449
        }
      ]
    },
    {
      "cell_type": "code",
      "metadata": {
        "id": "jjC2ZP6qyPqb",
        "colab_type": "code",
        "colab": {
          "base_uri": "https://localhost:8080/",
          "height": 68
        },
        "outputId": "056ae569-3b05-4ee8-b6fc-9cc595168f42"
      },
      "source": [
        "\n",
        "train['TransactionStartTime'].unique()"
      ],
      "execution_count": 450,
      "outputs": [
        {
          "output_type": "execute_result",
          "data": {
            "text/plain": [
              "array(['2018-11-15T02:18:49Z', '2018-11-15T02:19:08Z',\n",
              "       '2018-11-15T02:44:21Z', ..., '2019-02-13T09:54:35Z',\n",
              "       '2019-02-13T10:01:10Z', '2019-02-13T10:01:28Z'], dtype=object)"
            ]
          },
          "metadata": {
            "tags": []
          },
          "execution_count": 450
        }
      ]
    },
    {
      "cell_type": "code",
      "metadata": {
        "id": "DK87zT4iyfLL",
        "colab_type": "code",
        "colab": {
          "base_uri": "https://localhost:8080/",
          "height": 34
        },
        "outputId": "a587e780-e518-4476-88d9-3345a948ace3"
      },
      "source": [
        "### what pricing stratergy is used \n",
        "train['PricingStrategy'].unique()"
      ],
      "execution_count": 451,
      "outputs": [
        {
          "output_type": "execute_result",
          "data": {
            "text/plain": [
              "array([2, 4, 1, 0])"
            ]
          },
          "metadata": {
            "tags": []
          },
          "execution_count": 451
        }
      ]
    },
    {
      "cell_type": "code",
      "metadata": {
        "id": "FmdgyuGDyvo7",
        "colab_type": "code",
        "colab": {}
      },
      "source": [
        ""
      ],
      "execution_count": 0,
      "outputs": []
    },
    {
      "cell_type": "markdown",
      "metadata": {
        "id": "lilB3IGp0hQ_",
        "colab_type": "text"
      },
      "source": [
        "- Let's view our data as categorical and numerical column\n",
        "- First let's chech the munerical columns"
      ]
    },
    {
      "cell_type": "code",
      "metadata": {
        "id": "AT7lT2ap0ufr",
        "colab_type": "code",
        "colab": {
          "base_uri": "https://localhost:8080/",
          "height": 34
        },
        "outputId": "278a36c5-ab75-41a0-aa4f-945fead0d798"
      },
      "source": [
        "xe_train.select_dtypes(include=['int','int64','float']).columns\n",
        "print(len(xe_train.select_dtypes(include=['int','int64','float']).columns))"
      ],
      "execution_count": 452,
      "outputs": [
        {
          "output_type": "stream",
          "text": [
            "5\n"
          ],
          "name": "stdout"
        }
      ]
    },
    {
      "cell_type": "code",
      "metadata": {
        "id": "TxpQvFui0xEY",
        "colab_type": "code",
        "colab": {
          "base_uri": "https://localhost:8080/",
          "height": 85
        },
        "outputId": "dfcca73b-762f-4348-ce74-de51c13c10d6"
      },
      "source": [
        "xe_train.select_dtypes(include='object').columns\n",
        "print(xe_train.select_dtypes(include='object').columns)"
      ],
      "execution_count": 453,
      "outputs": [
        {
          "output_type": "stream",
          "text": [
            "Index(['TransactionId', 'BatchId', 'AccountId', 'SubscriptionId', 'CustomerId',\n",
            "       'CurrencyCode', 'ProviderId', 'ProductId', 'ProductCategory',\n",
            "       'ChannelId', 'TransactionStartTime'],\n",
            "      dtype='object')\n"
          ],
          "name": "stdout"
        }
      ]
    },
    {
      "cell_type": "code",
      "metadata": {
        "id": "zaZrK-sQ2YAO",
        "colab_type": "code",
        "colab": {}
      },
      "source": [
        "combined = pd.concat([xe_train,xe_test], sort=False)"
      ],
      "execution_count": 0,
      "outputs": []
    },
    {
      "cell_type": "code",
      "metadata": {
        "id": "eR8_nLcSjjYw",
        "colab_type": "code",
        "colab": {}
      },
      "source": [
        "#### dealing with the imbalance in the data\n"
      ],
      "execution_count": 0,
      "outputs": []
    },
    {
      "cell_type": "code",
      "metadata": {
        "id": "xzyMWq4E9oA-",
        "colab_type": "code",
        "colab": {
          "base_uri": "https://localhost:8080/",
          "height": 306
        },
        "outputId": "b5a4cd14-3fac-4d3c-d522-783dc7b5a4db"
      },
      "source": [
        "combined.isnull().sum()"
      ],
      "execution_count": 455,
      "outputs": [
        {
          "output_type": "execute_result",
          "data": {
            "text/plain": [
              "TransactionId               0\n",
              "BatchId                     0\n",
              "AccountId                   0\n",
              "SubscriptionId              0\n",
              "CustomerId                  0\n",
              "CurrencyCode                0\n",
              "CountryCode                 0\n",
              "ProviderId                  0\n",
              "ProductId                   0\n",
              "ProductCategory             0\n",
              "ChannelId                   0\n",
              "Amount                      0\n",
              "Value                       0\n",
              "TransactionStartTime        0\n",
              "PricingStrategy             0\n",
              "FraudResult             45019\n",
              "dtype: int64"
            ]
          },
          "metadata": {
            "tags": []
          },
          "execution_count": 455
        }
      ]
    },
    {
      "cell_type": "code",
      "metadata": {
        "id": "dWsxeDYybgAZ",
        "colab_type": "code",
        "colab": {
          "base_uri": "https://localhost:8080/",
          "height": 34
        },
        "outputId": "a9e78d36-4f0b-44ad-858b-f4f186e5e11a"
      },
      "source": [
        "len(combined)"
      ],
      "execution_count": 456,
      "outputs": [
        {
          "output_type": "execute_result",
          "data": {
            "text/plain": [
              "140681"
            ]
          },
          "metadata": {
            "tags": []
          },
          "execution_count": 456
        }
      ]
    },
    {
      "cell_type": "code",
      "metadata": {
        "id": "UtUxxLJGcIMG",
        "colab_type": "code",
        "colab": {
          "base_uri": "https://localhost:8080/",
          "height": 34
        },
        "outputId": "4a322aaa-e75c-4304-b13e-a2b1e26e92e6"
      },
      "source": [
        "### let's loo\n",
        "values_count = combined.nunique().sort_values()\n",
        "np.sum(values_count == 1)"
      ],
      "execution_count": 457,
      "outputs": [
        {
          "output_type": "execute_result",
          "data": {
            "text/plain": [
              "2"
            ]
          },
          "metadata": {
            "tags": []
          },
          "execution_count": 457
        }
      ]
    },
    {
      "cell_type": "code",
      "metadata": {
        "id": "Xz7NmunIclUH",
        "colab_type": "code",
        "colab": {
          "base_uri": "https://localhost:8080/",
          "height": 34
        },
        "outputId": "ddfe6298-04ec-4cd4-e298-1213bb53ee70"
      },
      "source": [
        "#### now let's look at duplicates\n",
        "\n",
        "duplicates = []\n",
        "for i, ref in enumerate(combined.columns[:-1]):\n",
        "    for other in combined.columns[i + 1:-1]:\n",
        "        if other not in duplicates and np.all(combined[ref] == combined[other]):\n",
        "            duplicates.append(other)    \n",
        "len(duplicates)"
      ],
      "execution_count": 458,
      "outputs": [
        {
          "output_type": "execute_result",
          "data": {
            "text/plain": [
              "0"
            ]
          },
          "metadata": {
            "tags": []
          },
          "execution_count": 458
        }
      ]
    },
    {
      "cell_type": "code",
      "metadata": {
        "id": "9Tk8sixuc9hn",
        "colab_type": "code",
        "colab": {}
      },
      "source": [
        ""
      ],
      "execution_count": 0,
      "outputs": []
    },
    {
      "cell_type": "code",
      "metadata": {
        "id": "d5vYZl_Hdwlv",
        "colab_type": "code",
        "colab": {}
      },
      "source": [
        ""
      ],
      "execution_count": 0,
      "outputs": []
    },
    {
      "cell_type": "code",
      "metadata": {
        "id": "H0vFL4vX-p2g",
        "colab_type": "code",
        "colab": {}
      },
      "source": [
        "### our train dataset had no missing values but the test dataset introduced some N/As\n",
        "### therefore we have to fill them in with zeros \n",
        "\n",
        "combined['FraudResult']=combined['FraudResult'].fillna(0)"
      ],
      "execution_count": 0,
      "outputs": []
    },
    {
      "cell_type": "code",
      "metadata": {
        "id": "4CdTleu0_NKq",
        "colab_type": "code",
        "colab": {
          "base_uri": "https://localhost:8080/",
          "height": 306
        },
        "outputId": "e29aef98-9bd1-4081-fe2e-e8e082725d9d"
      },
      "source": [
        "### Let's recheck our dataset for missing values\n",
        "\n",
        "combined.isnull().sum()"
      ],
      "execution_count": 460,
      "outputs": [
        {
          "output_type": "execute_result",
          "data": {
            "text/plain": [
              "TransactionId           0\n",
              "BatchId                 0\n",
              "AccountId               0\n",
              "SubscriptionId          0\n",
              "CustomerId              0\n",
              "CurrencyCode            0\n",
              "CountryCode             0\n",
              "ProviderId              0\n",
              "ProductId               0\n",
              "ProductCategory         0\n",
              "ChannelId               0\n",
              "Amount                  0\n",
              "Value                   0\n",
              "TransactionStartTime    0\n",
              "PricingStrategy         0\n",
              "FraudResult             0\n",
              "dtype: int64"
            ]
          },
          "metadata": {
            "tags": []
          },
          "execution_count": 460
        }
      ]
    },
    {
      "cell_type": "code",
      "metadata": {
        "id": "Oxj1x7tq1Vdk",
        "colab_type": "code",
        "colab": {
          "base_uri": "https://localhost:8080/",
          "height": 34
        },
        "outputId": "5f71ff56-3855-4fa7-e83e-00990be369b0"
      },
      "source": [
        "#### Since we have no missing values lets lable encode ou categorical variables\n",
        "\n",
        "###Let's label encode catecorical variables above\n",
        "\n",
        "#Label Encoding\n",
        "\n",
        "\n",
        "cols = ('TransactionId', 'BatchId', 'AccountId', 'SubscriptionId', 'CustomerId',\n",
        "       'CurrencyCode', 'ProviderId', 'ProductId', 'ProductCategory',\n",
        "       'ChannelId', 'TransactionStartTime')\n",
        "\n",
        "# process columns, apply LabelEncoder to categorical features\n",
        "for c in cols:\n",
        "  if c in cols:\n",
        "    \n",
        "    lbl = LabelEncoder() \n",
        "    lbl.fit(list(combined[c].values)) \n",
        "    combined[c] = lbl.transform(list(combined[c].values))\n",
        "\n",
        "# shape        \n",
        "print('Shape combined: {}'.format(combined.shape))"
      ],
      "execution_count": 461,
      "outputs": [
        {
          "output_type": "stream",
          "text": [
            "Shape combined: (140681, 16)\n"
          ],
          "name": "stdout"
        }
      ]
    },
    {
      "cell_type": "code",
      "metadata": {
        "id": "xQo0X9NH2Fuc",
        "colab_type": "code",
        "colab": {
          "base_uri": "https://localhost:8080/",
          "height": 162
        },
        "outputId": "c49da5b4-85c3-42b9-c528-d7e0c22eb40f"
      },
      "source": [
        "combined.head(3)"
      ],
      "execution_count": 418,
      "outputs": [
        {
          "output_type": "execute_result",
          "data": {
            "text/html": [
              "<div>\n",
              "<style scoped>\n",
              "    .dataframe tbody tr th:only-of-type {\n",
              "        vertical-align: middle;\n",
              "    }\n",
              "\n",
              "    .dataframe tbody tr th {\n",
              "        vertical-align: top;\n",
              "    }\n",
              "\n",
              "    .dataframe thead th {\n",
              "        text-align: right;\n",
              "    }\n",
              "</style>\n",
              "<table border=\"1\" class=\"dataframe\">\n",
              "  <thead>\n",
              "    <tr style=\"text-align: right;\">\n",
              "      <th></th>\n",
              "      <th>TransactionId</th>\n",
              "      <th>BatchId</th>\n",
              "      <th>AccountId</th>\n",
              "      <th>SubscriptionId</th>\n",
              "      <th>CustomerId</th>\n",
              "      <th>CurrencyCode</th>\n",
              "      <th>CountryCode</th>\n",
              "      <th>ProviderId</th>\n",
              "      <th>ProductId</th>\n",
              "      <th>ProductCategory</th>\n",
              "      <th>ChannelId</th>\n",
              "      <th>Amount</th>\n",
              "      <th>Value</th>\n",
              "      <th>TransactionStartTime</th>\n",
              "      <th>PricingStrategy</th>\n",
              "      <th>FraudResult</th>\n",
              "    </tr>\n",
              "  </thead>\n",
              "  <tbody>\n",
              "    <tr>\n",
              "      <th>0</th>\n",
              "      <td>114984</td>\n",
              "      <td>68522</td>\n",
              "      <td>3286</td>\n",
              "      <td>4711</td>\n",
              "      <td>3786</td>\n",
              "      <td>0</td>\n",
              "      <td>256</td>\n",
              "      <td>5</td>\n",
              "      <td>1</td>\n",
              "      <td>0</td>\n",
              "      <td>2</td>\n",
              "      <td>1000.0</td>\n",
              "      <td>1000</td>\n",
              "      <td>0</td>\n",
              "      <td>2</td>\n",
              "      <td>0.0</td>\n",
              "    </tr>\n",
              "    <tr>\n",
              "      <th>1</th>\n",
              "      <td>111539</td>\n",
              "      <td>45765</td>\n",
              "      <td>4269</td>\n",
              "      <td>3144</td>\n",
              "      <td>3786</td>\n",
              "      <td>0</td>\n",
              "      <td>256</td>\n",
              "      <td>3</td>\n",
              "      <td>23</td>\n",
              "      <td>2</td>\n",
              "      <td>1</td>\n",
              "      <td>-20.0</td>\n",
              "      <td>20</td>\n",
              "      <td>1</td>\n",
              "      <td>2</td>\n",
              "      <td>0.0</td>\n",
              "    </tr>\n",
              "    <tr>\n",
              "      <th>2</th>\n",
              "      <td>58688</td>\n",
              "      <td>88319</td>\n",
              "      <td>3589</td>\n",
              "      <td>1357</td>\n",
              "      <td>4093</td>\n",
              "      <td>0</td>\n",
              "      <td>256</td>\n",
              "      <td>5</td>\n",
              "      <td>0</td>\n",
              "      <td>0</td>\n",
              "      <td>2</td>\n",
              "      <td>500.0</td>\n",
              "      <td>500</td>\n",
              "      <td>2</td>\n",
              "      <td>2</td>\n",
              "      <td>0.0</td>\n",
              "    </tr>\n",
              "  </tbody>\n",
              "</table>\n",
              "</div>"
            ],
            "text/plain": [
              "   TransactionId  BatchId  ...  PricingStrategy  FraudResult\n",
              "0         114984    68522  ...                2          0.0\n",
              "1         111539    45765  ...                2          0.0\n",
              "2          58688    88319  ...                2          0.0\n",
              "\n",
              "[3 rows x 16 columns]"
            ]
          },
          "metadata": {
            "tags": []
          },
          "execution_count": 418
        }
      ]
    },
    {
      "cell_type": "code",
      "metadata": {
        "id": "QSPbQpWB2jZM",
        "colab_type": "code",
        "colab": {
          "base_uri": "https://localhost:8080/",
          "height": 348
        },
        "outputId": "ab330564-0ea5-4d18-a015-13991e88ab60"
      },
      "source": [
        "#### let's just deal with skewed data\n",
        "\n",
        "num_feats = new_data.dtypes[new_data.dtypes != \"object\"].index\n",
        "\n",
        "# Check the skew of all numerical features\n",
        "skewed_feats = new_data[num_feats].apply(lambda x: skew(x.dropna())).sort_values(ascending=False)\n",
        "print(\"\\nSkew in numerical features: \\n\")\n",
        "skewness = pd.DataFrame({'Skew' :skewed_feats})\n",
        "skewness = skewness.drop('FraudResult', 0)\n",
        "skewness.head(15)"
      ],
      "execution_count": 462,
      "outputs": [
        {
          "output_type": "stream",
          "text": [
            "\n",
            "Skew in numerical features: \n",
            "\n"
          ],
          "name": "stdout"
        },
        {
          "output_type": "execute_result",
          "data": {
            "text/html": [
              "<div>\n",
              "<style scoped>\n",
              "    .dataframe tbody tr th:only-of-type {\n",
              "        vertical-align: middle;\n",
              "    }\n",
              "\n",
              "    .dataframe tbody tr th {\n",
              "        vertical-align: top;\n",
              "    }\n",
              "\n",
              "    .dataframe thead th {\n",
              "        text-align: right;\n",
              "    }\n",
              "</style>\n",
              "<table border=\"1\" class=\"dataframe\">\n",
              "  <thead>\n",
              "    <tr style=\"text-align: right;\">\n",
              "      <th></th>\n",
              "      <th>Skew</th>\n",
              "    </tr>\n",
              "  </thead>\n",
              "  <tbody>\n",
              "    <tr>\n",
              "      <th>Amount</th>\n",
              "      <td>0.420457</td>\n",
              "    </tr>\n",
              "    <tr>\n",
              "      <th>Value</th>\n",
              "      <td>-0.024825</td>\n",
              "    </tr>\n",
              "    <tr>\n",
              "      <th>ProductCategory</th>\n",
              "      <td>-0.176640</td>\n",
              "    </tr>\n",
              "    <tr>\n",
              "      <th>ProductId</th>\n",
              "      <td>-1.609936</td>\n",
              "    </tr>\n",
              "    <tr>\n",
              "      <th>ProviderId</th>\n",
              "      <td>-1.848997</td>\n",
              "    </tr>\n",
              "    <tr>\n",
              "      <th>ChannelId</th>\n",
              "      <td>-2.027742</td>\n",
              "    </tr>\n",
              "    <tr>\n",
              "      <th>PricingStrategy</th>\n",
              "      <td>-3.378600</td>\n",
              "    </tr>\n",
              "    <tr>\n",
              "      <th>TransactionStartTime</th>\n",
              "      <td>-3.681659</td>\n",
              "    </tr>\n",
              "  </tbody>\n",
              "</table>\n",
              "</div>"
            ],
            "text/plain": [
              "                          Skew\n",
              "Amount                0.420457\n",
              "Value                -0.024825\n",
              "ProductCategory      -0.176640\n",
              "ProductId            -1.609936\n",
              "ProviderId           -1.848997\n",
              "ChannelId            -2.027742\n",
              "PricingStrategy      -3.378600\n",
              "TransactionStartTime -3.681659"
            ]
          },
          "metadata": {
            "tags": []
          },
          "execution_count": 462
        }
      ]
    },
    {
      "cell_type": "code",
      "metadata": {
        "id": "JjrmLz8y3nvM",
        "colab_type": "code",
        "colab": {
          "base_uri": "https://localhost:8080/",
          "height": 34
        },
        "outputId": "5809c7e8-7cd2-443c-9f31-9211358fb129"
      },
      "source": [
        "#### let's just box cox transform this thing and see what happens\n",
        "\n",
        "#Correct for skewness by using boxcox1p\n",
        "skewness = skewness[abs(skewness) > 0.75]\n",
        "print(\"There are {} skewed numerical features to Box Cox transform\".format(skewness.shape[0]))\n",
        "\n",
        "from scipy.special import boxcox1p\n",
        "skewed_features = skewness.index\n",
        "lam = 0.15\n",
        "for feat in skewed_features:\n",
        "    new_data[feat] = boxcox1p(new_data[feat], lam)"
      ],
      "execution_count": 463,
      "outputs": [
        {
          "output_type": "stream",
          "text": [
            "There are 8 skewed numerical features to Box Cox transform\n"
          ],
          "name": "stdout"
        }
      ]
    },
    {
      "cell_type": "code",
      "metadata": {
        "id": "44JxvrkJ8jsW",
        "colab_type": "code",
        "colab": {
          "base_uri": "https://localhost:8080/",
          "height": 224
        },
        "outputId": "78ae90c3-1ef7-46e1-f3be-7b73c908b8b3"
      },
      "source": [
        "# I didn't use getdummies\n",
        "#Get Dummies\n",
        "#combined = pd.get_dummies(combined)\n",
        "#len_train = train.shape[0]\n",
        "#combined.head(3)\n",
        "combined.head()"
      ],
      "execution_count": 421,
      "outputs": [
        {
          "output_type": "execute_result",
          "data": {
            "text/html": [
              "<div>\n",
              "<style scoped>\n",
              "    .dataframe tbody tr th:only-of-type {\n",
              "        vertical-align: middle;\n",
              "    }\n",
              "\n",
              "    .dataframe tbody tr th {\n",
              "        vertical-align: top;\n",
              "    }\n",
              "\n",
              "    .dataframe thead th {\n",
              "        text-align: right;\n",
              "    }\n",
              "</style>\n",
              "<table border=\"1\" class=\"dataframe\">\n",
              "  <thead>\n",
              "    <tr style=\"text-align: right;\">\n",
              "      <th></th>\n",
              "      <th>TransactionId</th>\n",
              "      <th>BatchId</th>\n",
              "      <th>AccountId</th>\n",
              "      <th>SubscriptionId</th>\n",
              "      <th>CustomerId</th>\n",
              "      <th>CurrencyCode</th>\n",
              "      <th>CountryCode</th>\n",
              "      <th>ProviderId</th>\n",
              "      <th>ProductId</th>\n",
              "      <th>ProductCategory</th>\n",
              "      <th>ChannelId</th>\n",
              "      <th>Amount</th>\n",
              "      <th>Value</th>\n",
              "      <th>TransactionStartTime</th>\n",
              "      <th>PricingStrategy</th>\n",
              "      <th>FraudResult</th>\n",
              "    </tr>\n",
              "  </thead>\n",
              "  <tbody>\n",
              "    <tr>\n",
              "      <th>0</th>\n",
              "      <td>114984</td>\n",
              "      <td>68522</td>\n",
              "      <td>3286</td>\n",
              "      <td>4711</td>\n",
              "      <td>3786</td>\n",
              "      <td>0</td>\n",
              "      <td>256</td>\n",
              "      <td>5</td>\n",
              "      <td>1</td>\n",
              "      <td>0</td>\n",
              "      <td>2</td>\n",
              "      <td>1000.0</td>\n",
              "      <td>1000</td>\n",
              "      <td>0</td>\n",
              "      <td>2</td>\n",
              "      <td>0.0</td>\n",
              "    </tr>\n",
              "    <tr>\n",
              "      <th>1</th>\n",
              "      <td>111539</td>\n",
              "      <td>45765</td>\n",
              "      <td>4269</td>\n",
              "      <td>3144</td>\n",
              "      <td>3786</td>\n",
              "      <td>0</td>\n",
              "      <td>256</td>\n",
              "      <td>3</td>\n",
              "      <td>23</td>\n",
              "      <td>2</td>\n",
              "      <td>1</td>\n",
              "      <td>-20.0</td>\n",
              "      <td>20</td>\n",
              "      <td>1</td>\n",
              "      <td>2</td>\n",
              "      <td>0.0</td>\n",
              "    </tr>\n",
              "    <tr>\n",
              "      <th>2</th>\n",
              "      <td>58688</td>\n",
              "      <td>88319</td>\n",
              "      <td>3589</td>\n",
              "      <td>1357</td>\n",
              "      <td>4093</td>\n",
              "      <td>0</td>\n",
              "      <td>256</td>\n",
              "      <td>5</td>\n",
              "      <td>0</td>\n",
              "      <td>0</td>\n",
              "      <td>2</td>\n",
              "      <td>500.0</td>\n",
              "      <td>500</td>\n",
              "      <td>2</td>\n",
              "      <td>2</td>\n",
              "      <td>0.0</td>\n",
              "    </tr>\n",
              "    <tr>\n",
              "      <th>3</th>\n",
              "      <td>71794</td>\n",
              "      <td>2629</td>\n",
              "      <td>4451</td>\n",
              "      <td>1318</td>\n",
              "      <td>7466</td>\n",
              "      <td>0</td>\n",
              "      <td>256</td>\n",
              "      <td>0</td>\n",
              "      <td>13</td>\n",
              "      <td>9</td>\n",
              "      <td>2</td>\n",
              "      <td>20000.0</td>\n",
              "      <td>21800</td>\n",
              "      <td>3</td>\n",
              "      <td>2</td>\n",
              "      <td>0.0</td>\n",
              "    </tr>\n",
              "    <tr>\n",
              "      <th>4</th>\n",
              "      <td>60900</td>\n",
              "      <td>71473</td>\n",
              "      <td>4269</td>\n",
              "      <td>3144</td>\n",
              "      <td>7466</td>\n",
              "      <td>0</td>\n",
              "      <td>256</td>\n",
              "      <td>3</td>\n",
              "      <td>23</td>\n",
              "      <td>2</td>\n",
              "      <td>1</td>\n",
              "      <td>-644.0</td>\n",
              "      <td>644</td>\n",
              "      <td>4</td>\n",
              "      <td>2</td>\n",
              "      <td>0.0</td>\n",
              "    </tr>\n",
              "  </tbody>\n",
              "</table>\n",
              "</div>"
            ],
            "text/plain": [
              "   TransactionId  BatchId  ...  PricingStrategy  FraudResult\n",
              "0         114984    68522  ...                2          0.0\n",
              "1         111539    45765  ...                2          0.0\n",
              "2          58688    88319  ...                2          0.0\n",
              "3          71794     2629  ...                2          0.0\n",
              "4          60900    71473  ...                2          0.0\n",
              "\n",
              "[5 rows x 16 columns]"
            ]
          },
          "metadata": {
            "tags": []
          },
          "execution_count": 421
        }
      ]
    },
    {
      "cell_type": "code",
      "metadata": {
        "id": "YmhuK7FJ9aN-",
        "colab_type": "code",
        "colab": {}
      },
      "source": [
        "###\n",
        "### As we can see boxcoxing this introduces nans in the value column\n",
        "### we will replace that with mean of the column\n",
        "\n",
        "combined['Amount']=combined['Amount'].fillna(combined['Amount'].mean())\n",
        "\n"
      ],
      "execution_count": 0,
      "outputs": []
    },
    {
      "cell_type": "code",
      "metadata": {
        "id": "NnjqUFGP9Up2",
        "colab_type": "code",
        "colab": {
          "base_uri": "https://localhost:8080/",
          "height": 306
        },
        "outputId": "66c7fe86-058f-4ceb-f26c-b3ad700385d8"
      },
      "source": [
        "#Based on data descriptions the following columns NA's will be filled with 'None'\n",
        "\n",
        "combined.isnull().sum()"
      ],
      "execution_count": 465,
      "outputs": [
        {
          "output_type": "execute_result",
          "data": {
            "text/plain": [
              "TransactionId           0\n",
              "BatchId                 0\n",
              "AccountId               0\n",
              "SubscriptionId          0\n",
              "CustomerId              0\n",
              "CurrencyCode            0\n",
              "CountryCode             0\n",
              "ProviderId              0\n",
              "ProductId               0\n",
              "ProductCategory         0\n",
              "ChannelId               0\n",
              "Amount                  0\n",
              "Value                   0\n",
              "TransactionStartTime    0\n",
              "PricingStrategy         0\n",
              "FraudResult             0\n",
              "dtype: int64"
            ]
          },
          "metadata": {
            "tags": []
          },
          "execution_count": 465
        }
      ]
    },
    {
      "cell_type": "code",
      "metadata": {
        "id": "7o3VdMD7AzPf",
        "colab_type": "code",
        "colab": {
          "base_uri": "https://localhost:8080/",
          "height": 374
        },
        "outputId": "d1e98721-4203-4e9a-fa71-e82ad9563805"
      },
      "source": [
        "combined.info()"
      ],
      "execution_count": 424,
      "outputs": [
        {
          "output_type": "stream",
          "text": [
            "<class 'pandas.core.frame.DataFrame'>\n",
            "Int64Index: 140681 entries, 0 to 45018\n",
            "Data columns (total 16 columns):\n",
            "TransactionId           140681 non-null int64\n",
            "BatchId                 140681 non-null int64\n",
            "AccountId               140681 non-null int64\n",
            "SubscriptionId          140681 non-null int64\n",
            "CustomerId              140681 non-null int64\n",
            "CurrencyCode            140681 non-null int64\n",
            "CountryCode             140681 non-null int64\n",
            "ProviderId              140681 non-null int64\n",
            "ProductId               140681 non-null int64\n",
            "ProductCategory         140681 non-null int64\n",
            "ChannelId               140681 non-null int64\n",
            "Amount                  140681 non-null float64\n",
            "Value                   140681 non-null int64\n",
            "TransactionStartTime    140681 non-null int64\n",
            "PricingStrategy         140681 non-null int64\n",
            "FraudResult             140681 non-null float64\n",
            "dtypes: float64(2), int64(14)\n",
            "memory usage: 18.2 MB\n"
          ],
          "name": "stdout"
        }
      ]
    },
    {
      "cell_type": "code",
      "metadata": {
        "id": "FDzsP1ccB3uq",
        "colab_type": "code",
        "colab": {}
      },
      "source": [
        "combined['FraudResult'] = combined.FraudResult.astype(int)"
      ],
      "execution_count": 0,
      "outputs": []
    },
    {
      "cell_type": "code",
      "metadata": {
        "id": "xxXB4DWV4Yxc",
        "colab_type": "code",
        "colab": {}
      },
      "source": [
        "#### Drop a few columns let's see what happens \n",
        "\n"
      ],
      "execution_count": 0,
      "outputs": []
    },
    {
      "cell_type": "code",
      "metadata": {
        "id": "Pxkc4SFsCvhj",
        "colab_type": "code",
        "colab": {
          "base_uri": "https://localhost:8080/",
          "height": 224
        },
        "outputId": "107f78c2-b68d-4983-f59f-d5c7034d8d88"
      },
      "source": [
        "\n",
        "combined.head()"
      ],
      "execution_count": 467,
      "outputs": [
        {
          "output_type": "execute_result",
          "data": {
            "text/html": [
              "<div>\n",
              "<style scoped>\n",
              "    .dataframe tbody tr th:only-of-type {\n",
              "        vertical-align: middle;\n",
              "    }\n",
              "\n",
              "    .dataframe tbody tr th {\n",
              "        vertical-align: top;\n",
              "    }\n",
              "\n",
              "    .dataframe thead th {\n",
              "        text-align: right;\n",
              "    }\n",
              "</style>\n",
              "<table border=\"1\" class=\"dataframe\">\n",
              "  <thead>\n",
              "    <tr style=\"text-align: right;\">\n",
              "      <th></th>\n",
              "      <th>TransactionId</th>\n",
              "      <th>BatchId</th>\n",
              "      <th>AccountId</th>\n",
              "      <th>SubscriptionId</th>\n",
              "      <th>CustomerId</th>\n",
              "      <th>CurrencyCode</th>\n",
              "      <th>CountryCode</th>\n",
              "      <th>ProviderId</th>\n",
              "      <th>ProductId</th>\n",
              "      <th>ProductCategory</th>\n",
              "      <th>ChannelId</th>\n",
              "      <th>Amount</th>\n",
              "      <th>Value</th>\n",
              "      <th>TransactionStartTime</th>\n",
              "      <th>PricingStrategy</th>\n",
              "      <th>FraudResult</th>\n",
              "    </tr>\n",
              "  </thead>\n",
              "  <tbody>\n",
              "    <tr>\n",
              "      <th>0</th>\n",
              "      <td>114984</td>\n",
              "      <td>68522</td>\n",
              "      <td>3286</td>\n",
              "      <td>4711</td>\n",
              "      <td>3786</td>\n",
              "      <td>0</td>\n",
              "      <td>256</td>\n",
              "      <td>5</td>\n",
              "      <td>1</td>\n",
              "      <td>0</td>\n",
              "      <td>2</td>\n",
              "      <td>1000.0</td>\n",
              "      <td>1000</td>\n",
              "      <td>0</td>\n",
              "      <td>2</td>\n",
              "      <td>0</td>\n",
              "    </tr>\n",
              "    <tr>\n",
              "      <th>1</th>\n",
              "      <td>111539</td>\n",
              "      <td>45765</td>\n",
              "      <td>4269</td>\n",
              "      <td>3144</td>\n",
              "      <td>3786</td>\n",
              "      <td>0</td>\n",
              "      <td>256</td>\n",
              "      <td>3</td>\n",
              "      <td>23</td>\n",
              "      <td>2</td>\n",
              "      <td>1</td>\n",
              "      <td>-20.0</td>\n",
              "      <td>20</td>\n",
              "      <td>1</td>\n",
              "      <td>2</td>\n",
              "      <td>0</td>\n",
              "    </tr>\n",
              "    <tr>\n",
              "      <th>2</th>\n",
              "      <td>58688</td>\n",
              "      <td>88319</td>\n",
              "      <td>3589</td>\n",
              "      <td>1357</td>\n",
              "      <td>4093</td>\n",
              "      <td>0</td>\n",
              "      <td>256</td>\n",
              "      <td>5</td>\n",
              "      <td>0</td>\n",
              "      <td>0</td>\n",
              "      <td>2</td>\n",
              "      <td>500.0</td>\n",
              "      <td>500</td>\n",
              "      <td>2</td>\n",
              "      <td>2</td>\n",
              "      <td>0</td>\n",
              "    </tr>\n",
              "    <tr>\n",
              "      <th>3</th>\n",
              "      <td>71794</td>\n",
              "      <td>2629</td>\n",
              "      <td>4451</td>\n",
              "      <td>1318</td>\n",
              "      <td>7466</td>\n",
              "      <td>0</td>\n",
              "      <td>256</td>\n",
              "      <td>0</td>\n",
              "      <td>13</td>\n",
              "      <td>9</td>\n",
              "      <td>2</td>\n",
              "      <td>20000.0</td>\n",
              "      <td>21800</td>\n",
              "      <td>3</td>\n",
              "      <td>2</td>\n",
              "      <td>0</td>\n",
              "    </tr>\n",
              "    <tr>\n",
              "      <th>4</th>\n",
              "      <td>60900</td>\n",
              "      <td>71473</td>\n",
              "      <td>4269</td>\n",
              "      <td>3144</td>\n",
              "      <td>7466</td>\n",
              "      <td>0</td>\n",
              "      <td>256</td>\n",
              "      <td>3</td>\n",
              "      <td>23</td>\n",
              "      <td>2</td>\n",
              "      <td>1</td>\n",
              "      <td>-644.0</td>\n",
              "      <td>644</td>\n",
              "      <td>4</td>\n",
              "      <td>2</td>\n",
              "      <td>0</td>\n",
              "    </tr>\n",
              "  </tbody>\n",
              "</table>\n",
              "</div>"
            ],
            "text/plain": [
              "   TransactionId  BatchId  ...  PricingStrategy  FraudResult\n",
              "0         114984    68522  ...                2            0\n",
              "1         111539    45765  ...                2            0\n",
              "2          58688    88319  ...                2            0\n",
              "3          71794     2629  ...                2            0\n",
              "4          60900    71473  ...                2            0\n",
              "\n",
              "[5 rows x 16 columns]"
            ]
          },
          "metadata": {
            "tags": []
          },
          "execution_count": 467
        }
      ]
    },
    {
      "cell_type": "code",
      "metadata": {
        "id": "e8L7sVPV6s0k",
        "colab_type": "code",
        "colab": {}
      },
      "source": [
        "len_train = len(xe_train)\n",
        "X_train = combined[:len_train]\n",
        "y_train = X_train.FraudResult.values\n",
        "X_train = X_train.drop('FraudResult', 1)\n",
        "X_test = combined[len_train:]\n",
        "y_test = X_test.FraudResult.values\n",
        "Xtest = X_test.drop(['FraudResult'], 1)\n"
      ],
      "execution_count": 0,
      "outputs": []
    },
    {
      "cell_type": "code",
      "metadata": {
        "id": "QTRnoETZ6vTt",
        "colab_type": "code",
        "colab": {
          "base_uri": "https://localhost:8080/",
          "height": 34
        },
        "outputId": "b282eb18-9d52-41f9-8acf-84bb485abe1e"
      },
      "source": [
        "len(X_train)"
      ],
      "execution_count": 428,
      "outputs": [
        {
          "output_type": "execute_result",
          "data": {
            "text/plain": [
              "95662"
            ]
          },
          "metadata": {
            "tags": []
          },
          "execution_count": 428
        }
      ]
    },
    {
      "cell_type": "code",
      "metadata": {
        "id": "HaDkDfzQ7OP1",
        "colab_type": "code",
        "colab": {
          "base_uri": "https://localhost:8080/",
          "height": 34
        },
        "outputId": "67de40c8-71e8-492c-dbd7-1b2a103eb5d9"
      },
      "source": [
        "len(y_train)\n"
      ],
      "execution_count": 429,
      "outputs": [
        {
          "output_type": "execute_result",
          "data": {
            "text/plain": [
              "95662"
            ]
          },
          "metadata": {
            "tags": []
          },
          "execution_count": 429
        }
      ]
    },
    {
      "cell_type": "code",
      "metadata": {
        "id": "sF9aDchr7vJd",
        "colab_type": "code",
        "colab": {
          "base_uri": "https://localhost:8080/",
          "height": 34
        },
        "outputId": "15e17829-382f-4048-9900-5973ee81fc11"
      },
      "source": [
        "len(X_test)"
      ],
      "execution_count": 430,
      "outputs": [
        {
          "output_type": "execute_result",
          "data": {
            "text/plain": [
              "45019"
            ]
          },
          "metadata": {
            "tags": []
          },
          "execution_count": 430
        }
      ]
    },
    {
      "cell_type": "code",
      "metadata": {
        "id": "m1pqd0gsTnim",
        "colab_type": "code",
        "colab": {
          "base_uri": "https://localhost:8080/",
          "height": 34
        },
        "outputId": "4af44e6e-ba48-465a-bfda-9d58e4b0135a"
      },
      "source": [
        "len(y_test)"
      ],
      "execution_count": 431,
      "outputs": [
        {
          "output_type": "execute_result",
          "data": {
            "text/plain": [
              "45019"
            ]
          },
          "metadata": {
            "tags": []
          },
          "execution_count": 431
        }
      ]
    },
    {
      "cell_type": "code",
      "metadata": {
        "id": "Z2pVu8bQUBbw",
        "colab_type": "code",
        "colab": {
          "base_uri": "https://localhost:8080/",
          "height": 162
        },
        "outputId": "ff32e882-54e5-48ab-c196-a12a70d0db64"
      },
      "source": [
        "X_test.drop('FraudResult',1, inplace=True)\n",
        "X_test.head(3)"
      ],
      "execution_count": 469,
      "outputs": [
        {
          "output_type": "execute_result",
          "data": {
            "text/html": [
              "<div>\n",
              "<style scoped>\n",
              "    .dataframe tbody tr th:only-of-type {\n",
              "        vertical-align: middle;\n",
              "    }\n",
              "\n",
              "    .dataframe tbody tr th {\n",
              "        vertical-align: top;\n",
              "    }\n",
              "\n",
              "    .dataframe thead th {\n",
              "        text-align: right;\n",
              "    }\n",
              "</style>\n",
              "<table border=\"1\" class=\"dataframe\">\n",
              "  <thead>\n",
              "    <tr style=\"text-align: right;\">\n",
              "      <th></th>\n",
              "      <th>TransactionId</th>\n",
              "      <th>BatchId</th>\n",
              "      <th>AccountId</th>\n",
              "      <th>SubscriptionId</th>\n",
              "      <th>CustomerId</th>\n",
              "      <th>CurrencyCode</th>\n",
              "      <th>CountryCode</th>\n",
              "      <th>ProviderId</th>\n",
              "      <th>ProductId</th>\n",
              "      <th>ProductCategory</th>\n",
              "      <th>ChannelId</th>\n",
              "      <th>Amount</th>\n",
              "      <th>Value</th>\n",
              "      <th>TransactionStartTime</th>\n",
              "      <th>PricingStrategy</th>\n",
              "    </tr>\n",
              "  </thead>\n",
              "  <tbody>\n",
              "    <tr>\n",
              "      <th>0</th>\n",
              "      <td>85796</td>\n",
              "      <td>67305</td>\n",
              "      <td>1603</td>\n",
              "      <td>3808</td>\n",
              "      <td>2064</td>\n",
              "      <td>0</td>\n",
              "      <td>256</td>\n",
              "      <td>4</td>\n",
              "      <td>20</td>\n",
              "      <td>0</td>\n",
              "      <td>2</td>\n",
              "      <td>1000.0</td>\n",
              "      <td>1000</td>\n",
              "      <td>94556</td>\n",
              "      <td>4</td>\n",
              "    </tr>\n",
              "    <tr>\n",
              "      <th>1</th>\n",
              "      <td>135249</td>\n",
              "      <td>78539</td>\n",
              "      <td>2711</td>\n",
              "      <td>1827</td>\n",
              "      <td>3194</td>\n",
              "      <td>0</td>\n",
              "      <td>256</td>\n",
              "      <td>4</td>\n",
              "      <td>6</td>\n",
              "      <td>2</td>\n",
              "      <td>2</td>\n",
              "      <td>2000.0</td>\n",
              "      <td>2000</td>\n",
              "      <td>94557</td>\n",
              "      <td>2</td>\n",
              "    </tr>\n",
              "    <tr>\n",
              "      <th>2</th>\n",
              "      <td>82191</td>\n",
              "      <td>111591</td>\n",
              "      <td>4269</td>\n",
              "      <td>3144</td>\n",
              "      <td>2064</td>\n",
              "      <td>0</td>\n",
              "      <td>256</td>\n",
              "      <td>3</td>\n",
              "      <td>23</td>\n",
              "      <td>2</td>\n",
              "      <td>1</td>\n",
              "      <td>-50.0</td>\n",
              "      <td>50</td>\n",
              "      <td>94558</td>\n",
              "      <td>2</td>\n",
              "    </tr>\n",
              "  </tbody>\n",
              "</table>\n",
              "</div>"
            ],
            "text/plain": [
              "   TransactionId  BatchId  ...  TransactionStartTime  PricingStrategy\n",
              "0          85796    67305  ...                 94556                4\n",
              "1         135249    78539  ...                 94557                2\n",
              "2          82191   111591  ...                 94558                2\n",
              "\n",
              "[3 rows x 15 columns]"
            ]
          },
          "metadata": {
            "tags": []
          },
          "execution_count": 469
        }
      ]
    },
    {
      "cell_type": "code",
      "metadata": {
        "id": "naCsV3lWTp7K",
        "colab_type": "code",
        "colab": {
          "base_uri": "https://localhost:8080/",
          "height": 51
        },
        "outputId": "45519eb8-ab8a-4430-ecf6-701595e94561"
      },
      "source": [
        "### great now let's do the train test split\n",
        "\n",
        "\n",
        "model = LogisticRegression()\n",
        "#y = combined['FraudResult']\n",
        "#X = combined.drop('FraudResult',1)\n",
        "\n",
        "\n",
        "#X_train,X_test,y_train ,y_test = train_test_split(X,y, test_size= 0.50,random_state=40)\n",
        "\n",
        "#### train the model on the training data\n",
        "model.fit(X_train,y_train)\n",
        "y_hat = model.predict( X_test)\n",
        "print('Accuracy Score:',accuracy_score(y_test, y_hat)*100)\n",
        "#print(accuracy_score(y_hat,label_test1)*100)\n",
        "print(log_loss(y_test,y_hat,labels=[0,1]))\n",
        "#X_test.head(3)"
      ],
      "execution_count": 470,
      "outputs": [
        {
          "output_type": "stream",
          "text": [
            "Accuracy Score: 99.9022634887492\n",
            "0.03375777657573566\n"
          ],
          "name": "stdout"
        }
      ]
    },
    {
      "cell_type": "code",
      "metadata": {
        "id": "nss3QuK_T005",
        "colab_type": "code",
        "colab": {
          "base_uri": "https://localhost:8080/",
          "height": 34
        },
        "outputId": "3e77f426-5e3d-49aa-baa9-b79959d0fcfe"
      },
      "source": [
        "len(y_hat)"
      ],
      "execution_count": 434,
      "outputs": [
        {
          "output_type": "execute_result",
          "data": {
            "text/plain": [
              "45019"
            ]
          },
          "metadata": {
            "tags": []
          },
          "execution_count": 434
        }
      ]
    },
    {
      "cell_type": "code",
      "metadata": {
        "id": "MFjFKVnqV5Sx",
        "colab_type": "code",
        "colab": {}
      },
      "source": [
        "#Output to CSV\n",
        "output_avg = pd.DataFrame({'A': xe_test.TransactionId, 'B': y_hat})\n",
        "output_avg.to_csv('/content/gdrive/My Drive/Explore/Xente/submission1_xente.csv', index=False)"
      ],
      "execution_count": 0,
      "outputs": []
    },
    {
      "cell_type": "code",
      "metadata": {
        "id": "dM1-OyPLWY2R",
        "colab_type": "code",
        "colab": {}
      },
      "source": [
        ""
      ],
      "execution_count": 0,
      "outputs": []
    }
  ]
}